{
 "cells": [
  {
   "cell_type": "code",
   "execution_count": 1,
   "metadata": {},
   "outputs": [],
   "source": [
    "%matplotlib inline\n",
    "\n",
    "import numpy as np\n",
    "import matplotlib.pyplot as plt\n"
   ]
  },
  {
   "cell_type": "code",
   "execution_count": 2,
   "metadata": {},
   "outputs": [],
   "source": [
    "import json\n",
    "def load_json(filename):\n",
    "    with open(filename) as data_file:\n",
    "        result = json.load(data_file)\n",
    "\n",
    "    return result\n"
   ]
  },
  {
   "cell_type": "code",
   "execution_count": 19,
   "metadata": {},
   "outputs": [
    {
     "name": "stdout",
     "output_type": "stream",
     "text": [
      "338\n",
      "338\n",
      "85\n",
      "7\n",
      "Правильность на обучающем наборе: 0.727\n",
      "Правильность на тестовом наборе: 0.624\n",
      "+ 1.63: [0.42934899 0.57065101] 0.63\n",
      "+ 1.727: [0.42617141 0.57382859] 1.357\n",
      "+ 1.52: [0.3846068 0.6153932] 1.877\n",
      "+ 1.62: [0.42934899 0.57065101] 2.497\n",
      "+ 1.139: [0.37708522 0.62291478] 2.636\n",
      "+ 1.59: [0.40784406 0.59215594] 3.226\n",
      "+ 1.43: [0.36318796 0.63681204] 3.656\n",
      "- 1.444: [0.34768519 0.65231481] 2.656\n",
      "- 1.38: [0.4229203 0.5770797] 1.656\n",
      "- 1.46: [0.3527483 0.6472517] 0.656\n",
      "- 1.45: [0.37708522 0.62291478] -0.344\n",
      "+ 1.57: [0.40784406 0.59215594] 0.226\n",
      "- 1.29: [0.3527483 0.6472517] -0.774\n",
      "- 1.19: [0.37708522 0.62291478] -1.774\n",
      "+ 1.55: [0.42466091 0.57533909] -1.224\n",
      "+ 1.61: [0.42783563 0.57216437] -0.614\n",
      "- 1.54: [0.37393055 0.62606945] -1.614\n",
      "+ 1.24: [0.40446479 0.59553521] -1.374\n",
      "+++++++----+--++-+\n",
      "1.63 1.727 1.52 1.62 1.139 1.59 1.43 1.444 1.38 1.46 1.45 1.57 1.29 1.19 1.55 1.61 1.54 1.24 \n",
      "Games: 18, Total: -1.374, -0.0763333333333 per game\n"
     ]
    }
   ],
   "source": [
    "from sklearn.ensemble import RandomForestClassifier\n",
    "from sklearn.cross_validation import train_test_split\n",
    "from sklearn.ensemble import GradientBoostingClassifier\n",
    "\n",
    "data = load_json('../data/khl_features_2018.json')\n",
    "X_data = data['features'] \n",
    "Y_data = data['results'] \n",
    "\n",
    "print len(X_data)\n",
    "print len(Y_data)\n",
    "\n",
    "X_train, X_test, y_train, y_test = train_test_split(X_data, Y_data, random_state=0)\n",
    "print len(y_test)\n",
    "print len(X_data[0])\n",
    "\n",
    "#classifier = RandomForestClassifier(n_estimators=10, random_state=0)\n",
    "classifier = GradientBoostingClassifier(learning_rate=0.01, random_state=0)\n",
    "classifier.fit(X_train, y_train)\n",
    "print(\"Правильность на обучающем наборе: {:.3f}\".format(classifier.score(X_train, y_train)))\n",
    "print(\"Правильность на тестовом наборе: {:.3f}\".format(classifier.score(X_test, y_test)))\n",
    "\n",
    "y_test_predicted = classifier.predict(X_test)\n",
    "y_test_probability = classifier.predict_proba(X_test)\n",
    "\n",
    "summ = 0.\n",
    "print_line = ''\n",
    "coeff_line = ''\n",
    "games_in_count = 0\n",
    "for index in range(0, len(y_test)):\n",
    "    if y_test_predicted[index] == 1:\n",
    "        coeff_line = coeff_line + '{} '.format(X_test[index][0])\n",
    "        games_in_count = games_in_count + 1\n",
    "        if y_test[index] == 1:\n",
    "            print_line = print_line + '+'\n",
    "            summ = summ + X_test[index][0] - 1\n",
    "            print '+ {}: {} {}'.format(X_test[index][0], y_test_probability[index], summ)\n",
    "        else:\n",
    "            summ = summ - 1.\n",
    "            print_line = print_line + '-'\n",
    "            print '- {}: {} {}'.format(X_test[index][0], y_test_probability[index], summ)\n",
    "\n",
    "print print_line\n",
    "print coeff_line\n",
    "print 'Games: {}, Total: {}, {} per game'.format(games_in_count, summ, summ/games_in_count);"
   ]
  },
  {
   "cell_type": "code",
   "execution_count": null,
   "metadata": {
    "collapsed": true
   },
   "outputs": [],
   "source": []
  }
 ],
 "metadata": {
  "kernelspec": {
   "display_name": "Python 2",
   "language": "python",
   "name": "python2"
  },
  "language_info": {
   "codemirror_mode": {
    "name": "ipython",
    "version": 2
   },
   "file_extension": ".py",
   "mimetype": "text/x-python",
   "name": "python",
   "nbconvert_exporter": "python",
   "pygments_lexer": "ipython2",
   "version": "2.7.15"
  }
 },
 "nbformat": 4,
 "nbformat_minor": 1
}
