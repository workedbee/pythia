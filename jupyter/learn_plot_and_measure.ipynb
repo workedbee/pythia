{
 "cells": [
  {
   "cell_type": "code",
   "execution_count": 1,
   "metadata": {
    "collapsed": true
   },
   "outputs": [],
   "source": [
    "%matplotlib inline\n",
    "\n",
    "import numpy as np\n",
    "import matplotlib.pyplot as plt\n"
   ]
  },
  {
   "cell_type": "code",
   "execution_count": 2,
   "metadata": {
    "collapsed": true
   },
   "outputs": [],
   "source": [
    "import json\n",
    "def load_json(filename):\n",
    "    with open(filename) as data_file:\n",
    "        result = json.load(data_file)\n",
    "\n",
    "    return result\n"
   ]
  },
  {
   "cell_type": "code",
   "execution_count": 13,
   "metadata": {
    "collapsed": false
   },
   "outputs": [
    {
     "name": "stdout",
     "output_type": "stream",
     "text": [
      "338\n",
      "1\n",
      "338\n",
      "85\n",
      "Правильность на обучающем наборе: 0.700\n",
      "Правильность на тестовом наборе: 0.729\n",
      "-+-++-+-++--++++-++\n",
      "Games: 19, Total: 12.012, 0.632210526316 per game\n"
     ]
    }
   ],
   "source": [
    "from sklearn.ensemble import RandomForestClassifier\n",
    "from sklearn.cross_validation import train_test_split\n",
    "from sklearn.ensemble import GradientBoostingClassifier\n",
    "\n",
    "data = load_json('../data/khl_features_2018.json')\n",
    "X_data = data['features'] \n",
    "Y_data = data['results'] \n",
    "\n",
    "print len(X_data)\n",
    "print len(X_data[0])\n",
    "print len(Y_data)\n",
    "\n",
    "X_train, X_test, y_train, y_test = train_test_split(X_data, Y_data, random_state=5)\n",
    "print len(y_test)\n",
    "\n",
    "#classifier = RandomForestClassifier(n_estimators=10, random_state=0)\n",
    "classifier = GradientBoostingClassifier(learning_rate=0.01, random_state=0)\n",
    "classifier.fit(X_train, y_train)\n",
    "print(\"Правильность на обучающем наборе: {:.3f}\".format(classifier.score(X_train, y_train)))\n",
    "print(\"Правильность на тестовом наборе: {:.3f}\".format(classifier.score(X_test, y_test)))\n",
    "\n",
    "y_test_predicted = classifier.predict(X_test)\n",
    "# print y_test\n",
    "# print y_test_predicted\n",
    "\n",
    "summ = 0.\n",
    "print_line = ''\n",
    "games_in_count = 0\n",
    "for index in range(0, len(y_test)):\n",
    "    if y_test_predicted[index] == 1:\n",
    "        games_in_count = games_in_count + 1\n",
    "        if y_test[index] == 1:\n",
    "            print_line = print_line + '+'\n",
    "            summ = summ + X_test[index][0]\n",
    "        else:\n",
    "            summ = summ - 1.\n",
    "            print_line = print_line + '-'\n",
    "\n",
    "print print_line            \n",
    "print 'Games: {}, Total: {}, {} per game'.format(games_in_count, summ, summ/games_in_count);"
   ]
  },
  {
   "cell_type": "code",
   "execution_count": null,
   "metadata": {
    "collapsed": true
   },
   "outputs": [],
   "source": []
  }
 ],
 "metadata": {
  "kernelspec": {
   "display_name": "Python 2",
   "language": "python",
   "name": "python2"
  },
  "language_info": {
   "codemirror_mode": {
    "name": "ipython",
    "version": 2
   },
   "file_extension": ".py",
   "mimetype": "text/x-python",
   "name": "python",
   "nbconvert_exporter": "python",
   "pygments_lexer": "ipython2",
   "version": "2.7.12"
  }
 },
 "nbformat": 4,
 "nbformat_minor": 0
}
