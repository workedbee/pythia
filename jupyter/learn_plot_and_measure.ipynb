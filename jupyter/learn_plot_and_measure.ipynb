{
 "cells": [
  {
   "cell_type": "code",
   "execution_count": 1,
   "metadata": {
    "collapsed": true
   },
   "outputs": [],
   "source": [
    "%matplotlib inline\n",
    "\n",
    "import numpy as np\n",
    "import matplotlib.pyplot as plt\n"
   ]
  },
  {
   "cell_type": "code",
   "execution_count": 2,
   "metadata": {
    "collapsed": true
   },
   "outputs": [],
   "source": [
    "import json\n",
    "def load_json(filename):\n",
    "    with open(filename) as data_file:\n",
    "        result = json.load(data_file)\n",
    "\n",
    "    return result\n"
   ]
  },
  {
   "cell_type": "code",
   "execution_count": 26,
   "metadata": {
    "collapsed": false
   },
   "outputs": [
    {
     "name": "stdout",
     "output_type": "stream",
     "text": [
      "338\n",
      "5\n",
      "338\n",
      "85\n",
      "Правильность на обучающем наборе: 0.708\n",
      "Правильность на тестовом наборе: 0.753\n",
      "+ 1.61: [ 0.42252615  0.57747385] 0.61\n",
      "+ 1.24: [ 0.41443168  0.58556832] 0.85\n",
      "+ 1.139: [ 0.3590011  0.6409989] 0.989\n",
      "+ 1.55: [ 0.42252615  0.57747385] 1.539\n",
      "+ 1.43: [ 0.44042368  0.55957632] 1.969\n",
      "- 1.59: [ 0.42252615  0.57747385] 0.969\n",
      "+ 1.39: [ 0.44042368  0.55957632] 1.359\n",
      "+ 1.45: [ 0.44042368  0.55957632] 1.809\n",
      "+ 1.7: [ 0.42842144  0.57157856] 2.509\n",
      "+ 1.67: [ 0.42842144  0.57157856] 3.179\n",
      "- 1.35: [ 0.44042368  0.55957632] 2.179\n",
      "- 3.48: [ 0.46926337  0.53073663] 1.179\n",
      "+ 1.73: [ 0.37083784  0.62916216] 1.909\n",
      "+ 1.63: [ 0.42842144  0.57157856] 2.539\n",
      "+ 1.5: [ 0.43618174  0.56381826] 3.039\n",
      "+++++-++++--+++\n",
      "1.61 1.24 1.139 1.55 1.43 1.59 1.39 1.45 1.7 1.67 1.35 3.48 1.73 1.63 1.5 \n",
      "Games: 15, Total: 3.039, 0.2026 per game\n"
     ]
    }
   ],
   "source": [
    "from sklearn.ensemble import RandomForestClassifier\n",
    "from sklearn.cross_validation import train_test_split\n",
    "from sklearn.ensemble import GradientBoostingClassifier\n",
    "\n",
    "data = load_json('../data/khl_features_2018.json')\n",
    "X_data = data['features'] \n",
    "Y_data = data['results'] \n",
    "\n",
    "print len(X_data)\n",
    "print len(X_data[0])\n",
    "print len(Y_data)\n",
    "\n",
    "X_train, X_test, y_train, y_test = train_test_split(X_data, Y_data, random_state=8)\n",
    "print len(y_test)\n",
    "\n",
    "#classifier = RandomForestClassifier(n_estimators=10, random_state=0)\n",
    "classifier = GradientBoostingClassifier(learning_rate=0.01, random_state=0)\n",
    "classifier.fit(X_train, y_train)\n",
    "print(\"Правильность на обучающем наборе: {:.3f}\".format(classifier.score(X_train, y_train)))\n",
    "print(\"Правильность на тестовом наборе: {:.3f}\".format(classifier.score(X_test, y_test)))\n",
    "\n",
    "y_test_predicted = classifier.predict(X_test)\n",
    "y_test_probability = classifier.predict_proba(X_test)\n",
    "\n",
    "summ = 0.\n",
    "print_line = ''\n",
    "coeff_line = ''\n",
    "games_in_count = 0\n",
    "for index in range(0, len(y_test)):\n",
    "    if y_test_predicted[index] == 1:\n",
    "        coeff_line = coeff_line + '{} '.format(X_test[index][0])\n",
    "        games_in_count = games_in_count + 1\n",
    "        if y_test[index] == 1:\n",
    "            print_line = print_line + '+'\n",
    "            summ = summ + X_test[index][0] - 1\n",
    "            print '+ {}: {} {}'.format(X_test[index][0], y_test_probability[index], summ)\n",
    "        else:\n",
    "            summ = summ - 1.\n",
    "            print_line = print_line + '-'\n",
    "            print '- {}: {} {}'.format(X_test[index][0], y_test_probability[index], summ)\n",
    "\n",
    "print print_line\n",
    "print coeff_line\n",
    "print 'Games: {}, Total: {}, {} per game'.format(games_in_count, summ, summ/games_in_count);"
   ]
  },
  {
   "cell_type": "code",
   "execution_count": null,
   "metadata": {
    "collapsed": true
   },
   "outputs": [],
   "source": []
  }
 ],
 "metadata": {
  "kernelspec": {
   "display_name": "Python 2",
   "language": "python",
   "name": "python2"
  },
  "language_info": {
   "codemirror_mode": {
    "name": "ipython",
    "version": 2
   },
   "file_extension": ".py",
   "mimetype": "text/x-python",
   "name": "python",
   "nbconvert_exporter": "python",
   "pygments_lexer": "ipython2",
   "version": "2.7.12"
  }
 },
 "nbformat": 4,
 "nbformat_minor": 0
}
