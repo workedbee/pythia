{
 "cells": [
  {
   "cell_type": "code",
   "execution_count": 1,
   "metadata": {
    "collapsed": true
   },
   "outputs": [],
   "source": [
    "%matplotlib inline\n",
    "\n",
    "import numpy as np\n",
    "import matplotlib.pyplot as plt\n"
   ]
  },
  {
   "cell_type": "code",
   "execution_count": 2,
   "metadata": {
    "collapsed": true
   },
   "outputs": [],
   "source": [
    "import json\n",
    "def load_json(filename):\n",
    "    with open(filename) as data_file:\n",
    "        result = json.load(data_file)\n",
    "\n",
    "    return result\n"
   ]
  },
  {
   "cell_type": "code",
   "execution_count": 10,
   "metadata": {
    "collapsed": false
   },
   "outputs": [
    {
     "name": "stdout",
     "output_type": "stream",
     "text": [
      "338\n",
      "7\n",
      "338\n",
      "85\n",
      "Правильность на обучающем наборе: 0.727\n",
      "Правильность на тестовом наборе: 0.612\n",
      "+ 1.24: [ 0.37566676  0.62433324] 0.24\n",
      "- 1.29: [ 0.35232914  0.64767086] -0.76\n",
      "- 5.5: [ 0.47486772  0.52513228] -1.76\n",
      "- 1.46: [ 0.35232914  0.64767086] -2.76\n",
      "+ 1.27: [ 0.29409884  0.70590116] -2.49\n",
      "- 1.5: [ 0.35904732  0.64095268] -3.49\n",
      "- 1.19: [ 0.331799  0.668201] -4.49\n",
      "+ 1.55: [ 0.44914295  0.55085705] -3.94\n",
      "+ 1.54: [ 0.44914295  0.55085705] -3.4\n",
      "- 1.38: [ 0.44365349  0.55634651] -4.4\n",
      "+ 1.52: [ 0.42516381  0.57483619] -3.88\n",
      "+ 1.39: [ 0.44914295  0.55085705] -3.49\n",
      "+ 1.49: [ 0.49226832  0.50773168] -3.0\n",
      "+ 1.615: [ 0.4197441  0.5802559] -2.385\n",
      "+ 1.52: [ 0.39864748  0.60135252] -1.865\n",
      "+ 1.2: [ 0.29409884  0.70590116] -1.665\n",
      "+ 1.24: [ 0.35650489  0.64349511] -1.425\n",
      "+ 1.64: [ 0.38694956  0.61305044] -0.785\n",
      "- 1.196: [ 0.42612676  0.57387324] -1.785\n",
      "+ 1.41: [ 0.49782106  0.50217894] -1.375\n",
      "+---+--++-++++++++-+\n",
      "1.24 1.29 5.5 1.46 1.27 1.5 1.19 1.55 1.54 1.38 1.52 1.39 1.49 1.615 1.52 1.2 1.24 1.64 1.196 1.41 \n",
      "Games: 20, Total: -1.375, -0.06875 per game\n"
     ]
    }
   ],
   "source": [
    "from sklearn.ensemble import RandomForestClassifier\n",
    "from sklearn.cross_validation import train_test_split\n",
    "from sklearn.ensemble import GradientBoostingClassifier\n",
    "\n",
    "data = load_json('../data/khl_features_2018.json')\n",
    "X_data = data['features'] \n",
    "Y_data = data['results'] \n",
    "\n",
    "print len(X_data)\n",
    "print len(X_data[0])\n",
    "print len(Y_data)\n",
    "\n",
    "X_train, X_test, y_train, y_test = train_test_split(X_data, Y_data, random_state=1)\n",
    "print len(y_test)\n",
    "\n",
    "#classifier = RandomForestClassifier(n_estimators=10, random_state=0)\n",
    "classifier = GradientBoostingClassifier(learning_rate=0.01, random_state=0)\n",
    "classifier.fit(X_train, y_train)\n",
    "print(\"Правильность на обучающем наборе: {:.3f}\".format(classifier.score(X_train, y_train)))\n",
    "print(\"Правильность на тестовом наборе: {:.3f}\".format(classifier.score(X_test, y_test)))\n",
    "\n",
    "y_test_predicted = classifier.predict(X_test)\n",
    "y_test_probability = classifier.predict_proba(X_test)\n",
    "\n",
    "summ = 0.\n",
    "print_line = ''\n",
    "coeff_line = ''\n",
    "games_in_count = 0\n",
    "for index in range(0, len(y_test)):\n",
    "    if y_test_predicted[index] == 1:\n",
    "        coeff_line = coeff_line + '{} '.format(X_test[index][0])\n",
    "        games_in_count = games_in_count + 1\n",
    "        if y_test[index] == 1:\n",
    "            print_line = print_line + '+'\n",
    "            summ = summ + X_test[index][0] - 1\n",
    "            print '+ {}: {} {}'.format(X_test[index][0], y_test_probability[index], summ)\n",
    "        else:\n",
    "            summ = summ - 1.\n",
    "            print_line = print_line + '-'\n",
    "            print '- {}: {} {}'.format(X_test[index][0], y_test_probability[index], summ)\n",
    "\n",
    "print print_line\n",
    "print coeff_line\n",
    "print 'Games: {}, Total: {}, {} per game'.format(games_in_count, summ, summ/games_in_count);"
   ]
  },
  {
   "cell_type": "code",
   "execution_count": null,
   "metadata": {
    "collapsed": true
   },
   "outputs": [],
   "source": []
  }
 ],
 "metadata": {
  "kernelspec": {
   "display_name": "Python 2",
   "language": "python",
   "name": "python2"
  },
  "language_info": {
   "codemirror_mode": {
    "name": "ipython",
    "version": 2
   },
   "file_extension": ".py",
   "mimetype": "text/x-python",
   "name": "python",
   "nbconvert_exporter": "python",
   "pygments_lexer": "ipython2",
   "version": "2.7.12"
  }
 },
 "nbformat": 4,
 "nbformat_minor": 0
}
